{
 "cells": [
  {
   "cell_type": "code",
   "execution_count": 1,
   "metadata": {},
   "outputs": [],
   "source": [
    "import arff, numpy as np"
   ]
  },
  {
   "cell_type": "code",
   "execution_count": 27,
   "metadata": {},
   "outputs": [],
   "source": [
    "dataset_flags = arff.load(open('./flags/flags-train.arff', 'rb'))\n",
    "dataset_emotions = arff.load(open('./emotions/emotions-train.arff', 'rb'))\n",
    "data_flags = np.array(dataset_flags['data'])\n",
    "att_flags = dataset_flags['attributes']\n",
    "data_emotions = np.array(dataset_emotions['data'])\n",
    "att_emo = dataset_emotions['attributes']"
   ]
  },
  {
   "cell_type": "code",
   "execution_count": 60,
   "metadata": {},
   "outputs": [],
   "source": [
    "y_flags = np.array([_ for _ in data_flags[:, 19:]])\n",
    "y_emotions = np.array([_ for _ in data_emotions[:, 72:]])"
   ]
  },
  {
   "cell_type": "code",
   "execution_count": 61,
   "metadata": {},
   "outputs": [
    {
     "name": "stdout",
     "output_type": "stream",
     "text": [
      "(1, u'Mean_Acc1298_Mean_Mem40_Centroid')\n",
      "(2, u'Mean_Acc1298_Mean_Mem40_Rolloff')\n",
      "(3, u'Mean_Acc1298_Mean_Mem40_Flux')\n",
      "(4, u'Mean_Acc1298_Mean_Mem40_MFCC_0')\n",
      "(5, u'Mean_Acc1298_Mean_Mem40_MFCC_1')\n",
      "(6, u'Mean_Acc1298_Mean_Mem40_MFCC_2')\n",
      "(7, u'Mean_Acc1298_Mean_Mem40_MFCC_3')\n",
      "(8, u'Mean_Acc1298_Mean_Mem40_MFCC_4')\n",
      "(9, u'Mean_Acc1298_Mean_Mem40_MFCC_5')\n",
      "(10, u'Mean_Acc1298_Mean_Mem40_MFCC_6')\n",
      "(11, u'Mean_Acc1298_Mean_Mem40_MFCC_7')\n",
      "(12, u'Mean_Acc1298_Mean_Mem40_MFCC_8')\n",
      "(13, u'Mean_Acc1298_Mean_Mem40_MFCC_9')\n",
      "(14, u'Mean_Acc1298_Mean_Mem40_MFCC_10')\n",
      "(15, u'Mean_Acc1298_Mean_Mem40_MFCC_11')\n",
      "(16, u'Mean_Acc1298_Mean_Mem40_MFCC_12')\n",
      "(17, u'Mean_Acc1298_Std_Mem40_Centroid')\n",
      "(18, u'Mean_Acc1298_Std_Mem40_Rolloff')\n",
      "(19, u'Mean_Acc1298_Std_Mem40_Flux')\n",
      "(20, u'Mean_Acc1298_Std_Mem40_MFCC_0')\n",
      "(21, u'Mean_Acc1298_Std_Mem40_MFCC_1')\n",
      "(22, u'Mean_Acc1298_Std_Mem40_MFCC_2')\n",
      "(23, u'Mean_Acc1298_Std_Mem40_MFCC_3')\n",
      "(24, u'Mean_Acc1298_Std_Mem40_MFCC_4')\n",
      "(25, u'Mean_Acc1298_Std_Mem40_MFCC_5')\n",
      "(26, u'Mean_Acc1298_Std_Mem40_MFCC_6')\n",
      "(27, u'Mean_Acc1298_Std_Mem40_MFCC_7')\n",
      "(28, u'Mean_Acc1298_Std_Mem40_MFCC_8')\n",
      "(29, u'Mean_Acc1298_Std_Mem40_MFCC_9')\n",
      "(30, u'Mean_Acc1298_Std_Mem40_MFCC_10')\n",
      "(31, u'Mean_Acc1298_Std_Mem40_MFCC_11')\n",
      "(32, u'Mean_Acc1298_Std_Mem40_MFCC_12')\n",
      "(33, u'Std_Acc1298_Mean_Mem40_Centroid')\n",
      "(34, u'Std_Acc1298_Mean_Mem40_Rolloff')\n",
      "(35, u'Std_Acc1298_Mean_Mem40_Flux')\n",
      "(36, u'Std_Acc1298_Mean_Mem40_MFCC_0')\n",
      "(37, u'Std_Acc1298_Mean_Mem40_MFCC_1')\n",
      "(38, u'Std_Acc1298_Mean_Mem40_MFCC_2')\n",
      "(39, u'Std_Acc1298_Mean_Mem40_MFCC_3')\n",
      "(40, u'Std_Acc1298_Mean_Mem40_MFCC_4')\n",
      "(41, u'Std_Acc1298_Mean_Mem40_MFCC_5')\n",
      "(42, u'Std_Acc1298_Mean_Mem40_MFCC_6')\n",
      "(43, u'Std_Acc1298_Mean_Mem40_MFCC_7')\n",
      "(44, u'Std_Acc1298_Mean_Mem40_MFCC_8')\n",
      "(45, u'Std_Acc1298_Mean_Mem40_MFCC_9')\n",
      "(46, u'Std_Acc1298_Mean_Mem40_MFCC_10')\n",
      "(47, u'Std_Acc1298_Mean_Mem40_MFCC_11')\n",
      "(48, u'Std_Acc1298_Mean_Mem40_MFCC_12')\n",
      "(49, u'Std_Acc1298_Std_Mem40_Centroid')\n",
      "(50, u'Std_Acc1298_Std_Mem40_Rolloff')\n",
      "(51, u'Std_Acc1298_Std_Mem40_Flux')\n",
      "(52, u'Std_Acc1298_Std_Mem40_MFCC_0')\n",
      "(53, u'Std_Acc1298_Std_Mem40_MFCC_1')\n",
      "(54, u'Std_Acc1298_Std_Mem40_MFCC_2')\n",
      "(55, u'Std_Acc1298_Std_Mem40_MFCC_3')\n",
      "(56, u'Std_Acc1298_Std_Mem40_MFCC_4')\n",
      "(57, u'Std_Acc1298_Std_Mem40_MFCC_5')\n",
      "(58, u'Std_Acc1298_Std_Mem40_MFCC_6')\n",
      "(59, u'Std_Acc1298_Std_Mem40_MFCC_7')\n",
      "(60, u'Std_Acc1298_Std_Mem40_MFCC_8')\n",
      "(61, u'Std_Acc1298_Std_Mem40_MFCC_9')\n",
      "(62, u'Std_Acc1298_Std_Mem40_MFCC_10')\n",
      "(63, u'Std_Acc1298_Std_Mem40_MFCC_11')\n",
      "(64, u'Std_Acc1298_Std_Mem40_MFCC_12')\n",
      "(65, u'BH_LowPeakAmp')\n",
      "(66, u'BH_LowPeakBPM')\n",
      "(67, u'BH_HighPeakAmp')\n",
      "(68, u'BH_HighPeakBPM')\n",
      "(69, u'BH_HighLowRatio')\n",
      "(70, u'BHSUM1')\n",
      "(71, u'BHSUM2')\n",
      "(72, u'BHSUM3')\n",
      "(73, u'amazed-suprised')\n",
      "(74, u'happy-pleased')\n",
      "(75, u'relaxing-calm')\n",
      "(76, u'quiet-still')\n",
      "(77, u'sad-lonely')\n",
      "(78, u'angry-aggresive')\n"
     ]
    }
   ],
   "source": [
    "idx = 0\n",
    "for att in att_emo:\n",
    "    idx += 1\n",
    "    print(idx, att[0])"
   ]
  },
  {
   "cell_type": "code",
   "execution_count": 62,
   "metadata": {},
   "outputs": [
    {
     "name": "stdout",
     "output_type": "stream",
     "text": [
      "(1, u'landmass')\n",
      "(2, u'zone')\n",
      "(3, u'area')\n",
      "(4, u'population')\n",
      "(5, u'language')\n",
      "(6, u'religion')\n",
      "(7, u'bars')\n",
      "(8, u'stripes')\n",
      "(9, u'colours')\n",
      "(10, u'circles')\n",
      "(11, u'crosses')\n",
      "(12, u'saltires')\n",
      "(13, u'quarters')\n",
      "(14, u'sunstars')\n",
      "(15, u'crescent')\n",
      "(16, u'triangle')\n",
      "(17, u'icon')\n",
      "(18, u'animate')\n",
      "(19, u'text')\n",
      "(20, u'red')\n",
      "(21, u'green')\n",
      "(22, u'blue')\n",
      "(23, u'yellow')\n",
      "(24, u'white')\n",
      "(25, u'black')\n",
      "(26, u'orange')\n"
     ]
    }
   ],
   "source": [
    "idx = 0\n",
    "for att in att_flags:\n",
    "    idx += 1\n",
    "    print(idx, att[0])"
   ]
  },
  {
   "cell_type": "code",
   "execution_count": null,
   "metadata": {},
   "outputs": [],
   "source": [
    "import "
   ]
  }
 ],
 "metadata": {
  "kernelspec": {
   "display_name": "Python 2",
   "language": "python",
   "name": "python2"
  },
  "language_info": {
   "codemirror_mode": {
    "name": "ipython",
    "version": 2
   },
   "file_extension": ".py",
   "mimetype": "text/x-python",
   "name": "python",
   "nbconvert_exporter": "python",
   "pygments_lexer": "ipython2",
   "version": "2.7.15rc1"
  }
 },
 "nbformat": 4,
 "nbformat_minor": 2
}
